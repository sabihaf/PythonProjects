{
  "nbformat": 4,
  "nbformat_minor": 0,
  "metadata": {
    "colab": {
      "name": "Unit2_Loop_Assignment_3 Completed",
      "provenance": [],
      "collapsed_sections": [],
      "include_colab_link": true
    },
    "kernelspec": {
      "name": "python3",
      "display_name": "Python 3"
    }
  },
  "cells": [
    {
      "cell_type": "markdown",
      "metadata": {
        "id": "view-in-github",
        "colab_type": "text"
      },
      "source": [
        "<a href=\"https://colab.research.google.com/github/sabihaf/PythonProjects/blob/main/Unit2_Loop_Assignment_3_Completed.ipynb\" target=\"_parent\"><img src=\"https://colab.research.google.com/assets/colab-badge.svg\" alt=\"Open In Colab\"/></a>"
      ]
    },
    {
      "cell_type": "markdown",
      "metadata": {
        "id": "Vgs8Kp4TidFQ"
      },
      "source": [
        "# Intrdouction to Python - Loop - Assignment #3 "
      ]
    },
    {
      "cell_type": "markdown",
      "metadata": {
        "id": "_Hq7Ny79iwgD"
      },
      "source": [
        "## 1. Create a list that holds 5 data variables. "
      ]
    },
    {
      "cell_type": "code",
      "metadata": {
        "id": "lotvpVpvlKsR"
      },
      "source": [
        "movies = [\"Happy Feet\", \"Spiderman\", \"Pitch Perfect\", \"Girls Trip\",\"Toy Story\"]"
      ],
      "execution_count": null,
      "outputs": []
    },
    {
      "cell_type": "markdown",
      "metadata": {
        "id": "io_27RSlizno"
      },
      "source": [
        "## 2.\tPrint out those variables by using a for loop"
      ]
    },
    {
      "cell_type": "code",
      "metadata": {
        "id": "Dh1o5cAylSHB",
        "outputId": "f2225a31-fbec-48a6-c46d-e042700d7efa",
        "colab": {
          "base_uri": "https://localhost:8080/"
        }
      },
      "source": [
        "for favoriteMovies in movies:\n",
        "  print(favoriteMovies)"
      ],
      "execution_count": null,
      "outputs": [
        {
          "output_type": "stream",
          "name": "stdout",
          "text": [
            "Happy Feet\n",
            "Spiderman\n",
            "Pitch Perfect\n",
            "Girls Trip\n",
            "Toy Story\n"
          ]
        }
      ]
    },
    {
      "cell_type": "markdown",
      "metadata": {
        "id": "DAW8m8IQjRyR"
      },
      "source": [
        "## 3.\tModify your for loop to add a message to your for loop."
      ]
    },
    {
      "cell_type": "code",
      "metadata": {
        "id": "guULMEhrjYtT",
        "outputId": "779ed918-0d89-4ebb-892f-73b99704a571",
        "colab": {
          "base_uri": "https://localhost:8080/"
        }
      },
      "source": [
        "for favoriteMovies in movies:\n",
        "  print(favoriteMovies, \",is one of my faovirte movies!\")"
      ],
      "execution_count": null,
      "outputs": [
        {
          "output_type": "stream",
          "name": "stdout",
          "text": [
            "Happy Feet ,is one of my faovirte movies!\n",
            "Spiderman ,is one of my faovirte movies!\n",
            "Pitch Perfect ,is one of my faovirte movies!\n",
            "Girls Trip ,is one of my faovirte movies!\n",
            "Toy Story ,is one of my faovirte movies!\n"
          ]
        }
      ]
    },
    {
      "cell_type": "markdown",
      "metadata": {
        "id": "dpa_YOt4jXyo"
      },
      "source": [
        "## 4.\tUse a for loop to print even numbers from 1-20."
      ]
    },
    {
      "cell_type": "code",
      "metadata": {
        "id": "pltxfnh3iJLW",
        "outputId": "dfa5d36e-7056-4e8a-d11b-06f23fc94760",
        "colab": {
          "base_uri": "https://localhost:8080/"
        }
      },
      "source": [
        "for number in range(2,21,2):\n",
        "  if(number % 2 == 0):\n",
        "    print(\"{0}\".format(number))"
      ],
      "execution_count": null,
      "outputs": [
        {
          "output_type": "stream",
          "name": "stdout",
          "text": [
            "2\n",
            "4\n",
            "6\n",
            "8\n",
            "10\n",
            "12\n",
            "14\n",
            "16\n",
            "18\n",
            "20\n"
          ]
        }
      ]
    },
    {
      "cell_type": "markdown",
      "metadata": {
        "id": "Ka84RGy4jmLT"
      },
      "source": [
        "## 5.\tSort your list in alphabetic order."
      ]
    },
    {
      "cell_type": "code",
      "metadata": {
        "id": "34IFFtK4jrg4",
        "outputId": "f4f66c88-0145-4f78-bf2c-abc9800568e9",
        "colab": {
          "base_uri": "https://localhost:8080/"
        }
      },
      "source": [
        "movies = [\"Happy Feet\", \"Spiderman\", \"Pitch Perfect\", \"Girls Trip\", \"Toy Story\"]\n",
        "movies.sort()\n",
        "print(movies)"
      ],
      "execution_count": null,
      "outputs": [
        {
          "output_type": "stream",
          "name": "stdout",
          "text": [
            "['Girls Trip', 'Happy Feet', 'Pitch Perfect', 'Spiderman', 'Toy Story']\n"
          ]
        }
      ]
    },
    {
      "cell_type": "markdown",
      "metadata": {
        "id": "ZKHwdMnLliFy"
      },
      "source": [
        "## 6.\tPrint out the first three elements of your list."
      ]
    },
    {
      "cell_type": "code",
      "metadata": {
        "id": "eXUDZfLOllTT",
        "outputId": "db16c95b-8cf7-4eaf-9487-685da2b5490b",
        "colab": {
          "base_uri": "https://localhost:8080/"
        }
      },
      "source": [
        "movies = [\"Happy Feet\", \"Spiderman\", \"Pitch Perfect\", \"Girls Trip\", \"Toy Story\"]\n",
        "print(movies[:3])"
      ],
      "execution_count": null,
      "outputs": [
        {
          "output_type": "stream",
          "name": "stdout",
          "text": [
            "['Happy Feet', 'Spiderman', 'Pitch Perfect']\n"
          ]
        }
      ]
    },
    {
      "cell_type": "markdown",
      "metadata": {
        "id": "oedkoLECmv6x"
      },
      "source": [
        "## 7.\tCreate a loop to print the last 2 elements of your list."
      ]
    },
    {
      "cell_type": "code",
      "metadata": {
        "id": "jjh2GdktllZY",
        "outputId": "6c3df529-ec89-4a45-94d2-14982db316d5",
        "colab": {
          "base_uri": "https://localhost:8080/"
        }
      },
      "source": [
        "movies = [\"Happy Feet\", \"Spiderman\", \"Pitch Perfect\", \"Girls Trip\", \"Toy Story\"]\n",
        "for last2movies in movies[-2:]:\n",
        "  print(last2movies.title())"
      ],
      "execution_count": null,
      "outputs": [
        {
          "output_type": "stream",
          "name": "stdout",
          "text": [
            "Girls Trip\n",
            "Toy Story\n"
          ]
        }
      ]
    }
  ]
}