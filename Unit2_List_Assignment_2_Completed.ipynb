{
  "nbformat": 4,
  "nbformat_minor": 0,
  "metadata": {
    "colab": {
      "name": " Unit2_List_Assignment_2. Completed",
      "provenance": [],
      "collapsed_sections": [],
      "include_colab_link": true
    },
    "kernelspec": {
      "name": "python3",
      "display_name": "Python 3"
    }
  },
  "cells": [
    {
      "cell_type": "markdown",
      "metadata": {
        "id": "view-in-github",
        "colab_type": "text"
      },
      "source": [
        "<a href=\"https://colab.research.google.com/github/sabihaf/PythonProjects/blob/main/Unit2_List_Assignment_2_Completed.ipynb\" target=\"_parent\"><img src=\"https://colab.research.google.com/assets/colab-badge.svg\" alt=\"Open In Colab\"/></a>"
      ]
    },
    {
      "cell_type": "markdown",
      "metadata": {
        "id": "Vgs8Kp4TidFQ"
      },
      "source": [
        "# Intrdouction to Python - List - Assingment #2  "
      ]
    },
    {
      "cell_type": "markdown",
      "metadata": {
        "id": "_Hq7Ny79iwgD"
      },
      "source": [
        "## 1.Create a list of 5 of your favorite tv shows.  ?"
      ]
    },
    {
      "cell_type": "code",
      "metadata": {
        "id": "lotvpVpvlKsR"
      },
      "source": [
        "tvShow = [\"New Girl\", \"Black Mirror\", \"Friends\", \"American Horror Story\", \"Dollface\"]"
      ],
      "execution_count": null,
      "outputs": []
    },
    {
      "cell_type": "code",
      "metadata": {
        "id": "oNXY-CfrlLbE"
      },
      "source": [
        ""
      ],
      "execution_count": null,
      "outputs": []
    },
    {
      "cell_type": "markdown",
      "metadata": {
        "id": "io_27RSlizno"
      },
      "source": [
        "## 2.\tPrint the list in its original order"
      ]
    },
    {
      "cell_type": "code",
      "metadata": {
        "id": "Dh1o5cAylSHB",
        "outputId": "e260a15c-b0a3-487e-d62d-2395743754b5",
        "colab": {
          "base_uri": "https://localhost:8080/"
        }
      },
      "source": [
        "tvShow = [\"New Girl\", \"Black Mirror\", \"Friends\", \"American Horror Story\", \"Dollface\"]\n",
        "print(\"Original Order:\")\n",
        "print(tvShow)"
      ],
      "execution_count": null,
      "outputs": [
        {
          "output_type": "stream",
          "name": "stdout",
          "text": [
            "Original Order:\n",
            "['New Girl', 'Black Mirror', 'Friends', 'American Horror Story', 'Dollface']\n"
          ]
        }
      ]
    },
    {
      "cell_type": "code",
      "metadata": {
        "id": "vs8ppR-wlSKL"
      },
      "source": [
        ""
      ],
      "execution_count": null,
      "outputs": []
    },
    {
      "cell_type": "markdown",
      "metadata": {
        "id": "DAW8m8IQjRyR"
      },
      "source": [
        "## 3.\tUse the sorted() function to print the list in alphabetical order.  How is sorted() different from sort()?"
      ]
    },
    {
      "cell_type": "code",
      "metadata": {
        "id": "guULMEhrjYtT",
        "outputId": "d8db502e-88db-448a-e90f-c192cc9f5b06",
        "colab": {
          "base_uri": "https://localhost:8080/"
        }
      },
      "source": [
        "print(\"Alphabetical Order:\")\n",
        "print(sorted(tvShow))"
      ],
      "execution_count": null,
      "outputs": [
        {
          "output_type": "stream",
          "name": "stdout",
          "text": [
            "Alphabetical Order:\n",
            "['American Horror Story', 'Black Mirror', 'Dollface', 'Friends', 'New Girl']\n"
          ]
        }
      ]
    },
    {
      "cell_type": "markdown",
      "source": [
        "sorted() creates a new sorted version of the list while sort() modifies the original list."
      ],
      "metadata": {
        "id": "padxvbiz-pf8"
      }
    },
    {
      "cell_type": "code",
      "metadata": {
        "id": "cv946RaOjw-G"
      },
      "source": [
        ""
      ],
      "execution_count": null,
      "outputs": []
    },
    {
      "cell_type": "markdown",
      "metadata": {
        "id": "dpa_YOt4jXyo"
      },
      "source": [
        "## 4.\tPrint out your original list."
      ]
    },
    {
      "cell_type": "code",
      "metadata": {
        "id": "pltxfnh3iJLW",
        "outputId": "915b18ea-778c-4c16-871d-4cab6dec525a",
        "colab": {
          "base_uri": "https://localhost:8080/"
        }
      },
      "source": [
        "print(\"Orignal List:\")\n",
        "print(tvShow)"
      ],
      "execution_count": null,
      "outputs": [
        {
          "output_type": "stream",
          "name": "stdout",
          "text": [
            "Orignal List:\n",
            "['New Girl', 'Black Mirror', 'Friends', 'American Horror Story', 'Dollface']\n"
          ]
        }
      ]
    },
    {
      "cell_type": "code",
      "metadata": {
        "id": "PzH5Rcn-jwPL"
      },
      "source": [
        ""
      ],
      "execution_count": null,
      "outputs": []
    },
    {
      "cell_type": "markdown",
      "metadata": {
        "id": "Ka84RGy4jmLT"
      },
      "source": [
        "## 5.\tUsed sorted() to print your list in reverse alphabetical order."
      ]
    },
    {
      "cell_type": "code",
      "metadata": {
        "id": "34IFFtK4jrg4",
        "outputId": "6c52f767-a3d2-4509-ecd8-2b9c384f180b",
        "colab": {
          "base_uri": "https://localhost:8080/"
        }
      },
      "source": [
        "print(\"Reverse Alphabetical Order:\")\n",
        "print(sorted(tvShow, reverse=True))"
      ],
      "execution_count": null,
      "outputs": [
        {
          "output_type": "stream",
          "name": "stdout",
          "text": [
            "Reverse Alphabetical Order:\n",
            "['New Girl', 'Friends', 'Dollface', 'Black Mirror', 'American Horror Story']\n"
          ]
        }
      ]
    },
    {
      "cell_type": "code",
      "metadata": {
        "id": "M17RfxQljvqb"
      },
      "source": [
        ""
      ],
      "execution_count": null,
      "outputs": []
    },
    {
      "cell_type": "code",
      "metadata": {
        "id": "4agTp_Cyju4-"
      },
      "source": [
        ""
      ],
      "execution_count": null,
      "outputs": []
    },
    {
      "cell_type": "markdown",
      "metadata": {
        "id": "ZKHwdMnLliFy"
      },
      "source": [
        "## 6.\tCreate a message indicating how many favorite TV shows you have – use the len() function."
      ]
    },
    {
      "cell_type": "code",
      "metadata": {
        "id": "eXUDZfLOllTT",
        "outputId": "a2100b5e-ee4c-4426-f9bd-c9de2f40ef82",
        "colab": {
          "base_uri": "https://localhost:8080/"
        }
      },
      "source": [
        "print(tvShow)\n",
        "print(\"I have\", len(tvShow), \"favorite TV Shows\")"
      ],
      "execution_count": null,
      "outputs": [
        {
          "output_type": "stream",
          "name": "stdout",
          "text": [
            "['New Girl', 'Black Mirror', 'Friends', 'American Horror Story', 'Dollface']\n",
            "I have 5 favorite TV Shows\n"
          ]
        }
      ]
    },
    {
      "cell_type": "code",
      "metadata": {
        "id": "4oNKGU70llVg"
      },
      "source": [
        ""
      ],
      "execution_count": null,
      "outputs": []
    },
    {
      "cell_type": "code",
      "metadata": {
        "id": "jjh2GdktllZY"
      },
      "source": [
        ""
      ],
      "execution_count": null,
      "outputs": []
    },
    {
      "cell_type": "code",
      "metadata": {
        "id": "iHaRIrt8llcd"
      },
      "source": [
        ""
      ],
      "execution_count": null,
      "outputs": []
    }
  ]
}